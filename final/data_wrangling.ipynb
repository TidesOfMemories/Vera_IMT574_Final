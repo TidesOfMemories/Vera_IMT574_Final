{
 "cells": [
  {
   "cell_type": "code",
   "execution_count": 14,
   "metadata": {},
   "outputs": [],
   "source": [
    "import statsmodels.api as sm\n",
    "from sklearn.preprocessing import StandardScaler\n",
    "import pandas as pd\n",
    "import numpy as np\n",
    "import matplotlib.pyplot as plt"
   ]
  },
  {
   "cell_type": "code",
   "execution_count": 6,
   "metadata": {},
   "outputs": [
    {
     "name": "stdout",
     "output_type": "stream",
     "text": [
      "                        original_title release_date       budget  runtime  \\\n",
      "0                         The Way Back   2010-11-22  56666666.67      133   \n",
      "1  A Turtle's Tale: Sammy's Adventures   2010-08-03  80000000.00       88   \n",
      "2                 Get Him to the Greek   2010-06-03  58000000.00      109   \n",
      "3                           Last Night   2010-11-05  26500000.00       93   \n",
      "4             Tucker and Dale vs. Evil   2010-01-22  25000000.00       89   \n",
      "\n",
      "   popularity  vote_average  vote_count  ratings  oscar_winner  oscar_noms  \\\n",
      "0      24.712         6.986        1461      7.3             0           1   \n",
      "1      26.522         5.986         611      6.0             0           0   \n",
      "2      26.663         5.971        1671      6.3             0           0   \n",
      "3      16.456         6.120         724      6.5             0           0   \n",
      "4      24.375         7.369        2575      7.5             0           0   \n",
      "\n",
      "   ...  Adventure  Comedy  Thriller  box_office  release_month  release_year  \\\n",
      "0  ...          1       0         0    20348249             11          2010   \n",
      "1  ...          0       0         0    71594792              8          2010   \n",
      "2  ...          1       1         0    91261479              6          2010   \n",
      "3  ...          0       0         0     7743923             11          2010   \n",
      "4  ...          0       1         0     4749516              1          2010   \n",
      "\n",
      "   release_dayofweek  imputed       ROI  earn_class  \n",
      "0                  0     True -0.640913       loser  \n",
      "1                  1     True -0.105065       loser  \n",
      "2                  3     True  0.573474      earner  \n",
      "3                  4     True -0.707776       loser  \n",
      "4                  4     True -0.810019       loser  \n",
      "\n",
      "[5 rows x 35 columns]\n",
      "(1418, 35)\n"
     ]
    }
   ],
   "source": [
    "df = pd.read_csv('./df_final.csv')\n",
    "print(df.head())\n",
    "print(df.shape)"
   ]
  },
  {
   "cell_type": "code",
   "execution_count": 7,
   "metadata": {},
   "outputs": [
    {
     "data": {
      "text/plain": [
       "Index(['original_title', 'release_date', 'budget', 'runtime', 'popularity',\n",
       "       'vote_average', 'vote_count', 'ratings', 'oscar_winner', 'oscar_noms',\n",
       "       'Action', 'Documentary', 'Fantasy', 'Crime', 'Animation', 'Romance',\n",
       "       'Mystery', 'Science Fiction', 'Family', 'Drama', 'War', 'History',\n",
       "       'Horror', 'Music', 'Western', 'Adventure', 'Comedy', 'Thriller',\n",
       "       'box_office', 'release_month', 'release_year', 'release_dayofweek',\n",
       "       'imputed', 'ROI', 'earn_class'],\n",
       "      dtype='object')"
      ]
     },
     "execution_count": 7,
     "metadata": {},
     "output_type": "execute_result"
    }
   ],
   "source": [
    "df.columns"
   ]
  },
  {
   "cell_type": "code",
   "execution_count": 8,
   "metadata": {},
   "outputs": [],
   "source": [
    "df = df[['budget', 'runtime', 'popularity',\n",
    "       'vote_average', 'vote_count', 'ratings', 'oscar_winner', 'oscar_noms',\n",
    "       'Action', 'Documentary', 'Fantasy', 'Crime', 'Animation', 'Romance',\n",
    "       'Mystery', 'Science Fiction', 'Family', 'Drama', 'War',\n",
    "       'History', 'Horror', 'Music', 'Western', 'Adventure', 'Comedy',\n",
    "       'Thriller', 'box_office', 'release_month', 'release_year',\n",
    "       'release_dayofweek']]"
   ]
  },
  {
   "cell_type": "code",
   "execution_count": 9,
   "metadata": {},
   "outputs": [
    {
     "data": {
      "text/html": [
       "<div>\n",
       "<style scoped>\n",
       "    .dataframe tbody tr th:only-of-type {\n",
       "        vertical-align: middle;\n",
       "    }\n",
       "\n",
       "    .dataframe tbody tr th {\n",
       "        vertical-align: top;\n",
       "    }\n",
       "\n",
       "    .dataframe thead th {\n",
       "        text-align: right;\n",
       "    }\n",
       "</style>\n",
       "<table border=\"1\" class=\"dataframe\">\n",
       "  <thead>\n",
       "    <tr style=\"text-align: right;\">\n",
       "      <th></th>\n",
       "      <th>budget</th>\n",
       "      <th>runtime</th>\n",
       "      <th>popularity</th>\n",
       "      <th>vote_average</th>\n",
       "      <th>vote_count</th>\n",
       "      <th>ratings</th>\n",
       "      <th>oscar_winner</th>\n",
       "      <th>oscar_noms</th>\n",
       "      <th>Action</th>\n",
       "      <th>Documentary</th>\n",
       "      <th>...</th>\n",
       "      <th>month_10</th>\n",
       "      <th>month_11</th>\n",
       "      <th>month_12</th>\n",
       "      <th>day_0</th>\n",
       "      <th>day_1</th>\n",
       "      <th>day_2</th>\n",
       "      <th>day_3</th>\n",
       "      <th>day_4</th>\n",
       "      <th>day_5</th>\n",
       "      <th>day_6</th>\n",
       "    </tr>\n",
       "  </thead>\n",
       "  <tbody>\n",
       "    <tr>\n",
       "      <th>0</th>\n",
       "      <td>56666666.67</td>\n",
       "      <td>133</td>\n",
       "      <td>24.712</td>\n",
       "      <td>6.986</td>\n",
       "      <td>1461</td>\n",
       "      <td>7.3</td>\n",
       "      <td>0</td>\n",
       "      <td>1</td>\n",
       "      <td>0</td>\n",
       "      <td>0</td>\n",
       "      <td>...</td>\n",
       "      <td>False</td>\n",
       "      <td>True</td>\n",
       "      <td>False</td>\n",
       "      <td>True</td>\n",
       "      <td>False</td>\n",
       "      <td>False</td>\n",
       "      <td>False</td>\n",
       "      <td>False</td>\n",
       "      <td>False</td>\n",
       "      <td>False</td>\n",
       "    </tr>\n",
       "    <tr>\n",
       "      <th>1</th>\n",
       "      <td>80000000.00</td>\n",
       "      <td>88</td>\n",
       "      <td>26.522</td>\n",
       "      <td>5.986</td>\n",
       "      <td>611</td>\n",
       "      <td>6.0</td>\n",
       "      <td>0</td>\n",
       "      <td>0</td>\n",
       "      <td>0</td>\n",
       "      <td>0</td>\n",
       "      <td>...</td>\n",
       "      <td>False</td>\n",
       "      <td>False</td>\n",
       "      <td>False</td>\n",
       "      <td>False</td>\n",
       "      <td>True</td>\n",
       "      <td>False</td>\n",
       "      <td>False</td>\n",
       "      <td>False</td>\n",
       "      <td>False</td>\n",
       "      <td>False</td>\n",
       "    </tr>\n",
       "    <tr>\n",
       "      <th>2</th>\n",
       "      <td>58000000.00</td>\n",
       "      <td>109</td>\n",
       "      <td>26.663</td>\n",
       "      <td>5.971</td>\n",
       "      <td>1671</td>\n",
       "      <td>6.3</td>\n",
       "      <td>0</td>\n",
       "      <td>0</td>\n",
       "      <td>0</td>\n",
       "      <td>0</td>\n",
       "      <td>...</td>\n",
       "      <td>False</td>\n",
       "      <td>False</td>\n",
       "      <td>False</td>\n",
       "      <td>False</td>\n",
       "      <td>False</td>\n",
       "      <td>False</td>\n",
       "      <td>True</td>\n",
       "      <td>False</td>\n",
       "      <td>False</td>\n",
       "      <td>False</td>\n",
       "    </tr>\n",
       "    <tr>\n",
       "      <th>3</th>\n",
       "      <td>26500000.00</td>\n",
       "      <td>93</td>\n",
       "      <td>16.456</td>\n",
       "      <td>6.120</td>\n",
       "      <td>724</td>\n",
       "      <td>6.5</td>\n",
       "      <td>0</td>\n",
       "      <td>0</td>\n",
       "      <td>0</td>\n",
       "      <td>0</td>\n",
       "      <td>...</td>\n",
       "      <td>False</td>\n",
       "      <td>True</td>\n",
       "      <td>False</td>\n",
       "      <td>False</td>\n",
       "      <td>False</td>\n",
       "      <td>False</td>\n",
       "      <td>False</td>\n",
       "      <td>True</td>\n",
       "      <td>False</td>\n",
       "      <td>False</td>\n",
       "    </tr>\n",
       "    <tr>\n",
       "      <th>4</th>\n",
       "      <td>25000000.00</td>\n",
       "      <td>89</td>\n",
       "      <td>24.375</td>\n",
       "      <td>7.369</td>\n",
       "      <td>2575</td>\n",
       "      <td>7.5</td>\n",
       "      <td>0</td>\n",
       "      <td>0</td>\n",
       "      <td>0</td>\n",
       "      <td>0</td>\n",
       "      <td>...</td>\n",
       "      <td>False</td>\n",
       "      <td>False</td>\n",
       "      <td>False</td>\n",
       "      <td>False</td>\n",
       "      <td>False</td>\n",
       "      <td>False</td>\n",
       "      <td>False</td>\n",
       "      <td>True</td>\n",
       "      <td>False</td>\n",
       "      <td>False</td>\n",
       "    </tr>\n",
       "  </tbody>\n",
       "</table>\n",
       "<p>5 rows × 49 columns</p>\n",
       "</div>"
      ],
      "text/plain": [
       "        budget  runtime  popularity  vote_average  vote_count  ratings  \\\n",
       "0  56666666.67      133      24.712         6.986        1461      7.3   \n",
       "1  80000000.00       88      26.522         5.986         611      6.0   \n",
       "2  58000000.00      109      26.663         5.971        1671      6.3   \n",
       "3  26500000.00       93      16.456         6.120         724      6.5   \n",
       "4  25000000.00       89      24.375         7.369        2575      7.5   \n",
       "\n",
       "   oscar_winner  oscar_noms  Action  Documentary  ...  month_10  month_11  \\\n",
       "0             0           1       0            0  ...     False      True   \n",
       "1             0           0       0            0  ...     False     False   \n",
       "2             0           0       0            0  ...     False     False   \n",
       "3             0           0       0            0  ...     False      True   \n",
       "4             0           0       0            0  ...     False     False   \n",
       "\n",
       "   month_12  day_0  day_1  day_2  day_3  day_4  day_5  day_6  \n",
       "0     False   True  False  False  False  False  False  False  \n",
       "1     False  False   True  False  False  False  False  False  \n",
       "2     False  False  False  False   True  False  False  False  \n",
       "3     False  False  False  False  False   True  False  False  \n",
       "4     False  False  False  False  False   True  False  False  \n",
       "\n",
       "[5 rows x 49 columns]"
      ]
     },
     "execution_count": 9,
     "metadata": {},
     "output_type": "execute_result"
    }
   ],
   "source": [
    "# transform month and day into binary\n",
    "df_month = pd.get_dummies(df['release_month'], prefix='month')\n",
    "df_day = pd.get_dummies(df['release_dayofweek'], prefix='day')\n",
    "df = pd.concat([df, df_month, df_day], axis=1)\n",
    "df.head()"
   ]
  },
  {
   "cell_type": "markdown",
   "metadata": {},
   "source": [
    "## Baseline Model"
   ]
  },
  {
   "cell_type": "code",
   "execution_count": 11,
   "metadata": {},
   "outputs": [
    {
     "data": {
      "text/html": [
       "<table class=\"simpletable\">\n",
       "<caption>OLS Regression Results</caption>\n",
       "<tr>\n",
       "  <th>Dep. Variable:</th>       <td>box_office</td>    <th>  R-squared:         </th> <td>   0.570</td> \n",
       "</tr>\n",
       "<tr>\n",
       "  <th>Model:</th>                   <td>OLS</td>       <th>  Adj. R-squared:    </th> <td>   0.569</td> \n",
       "</tr>\n",
       "<tr>\n",
       "  <th>Method:</th>             <td>Least Squares</td>  <th>  F-statistic:       </th> <td>   1875.</td> \n",
       "</tr>\n",
       "<tr>\n",
       "  <th>Date:</th>             <td>Thu, 07 Mar 2024</td> <th>  Prob (F-statistic):</th> <td>1.22e-261</td>\n",
       "</tr>\n",
       "<tr>\n",
       "  <th>Time:</th>                 <td>14:55:12</td>     <th>  Log-Likelihood:    </th> <td> -28994.</td> \n",
       "</tr>\n",
       "<tr>\n",
       "  <th>No. Observations:</th>      <td>  1418</td>      <th>  AIC:               </th> <td>5.799e+04</td>\n",
       "</tr>\n",
       "<tr>\n",
       "  <th>Df Residuals:</th>          <td>  1416</td>      <th>  BIC:               </th> <td>5.800e+04</td>\n",
       "</tr>\n",
       "<tr>\n",
       "  <th>Df Model:</th>              <td>     1</td>      <th>                     </th>     <td> </td>    \n",
       "</tr>\n",
       "<tr>\n",
       "  <th>Covariance Type:</th>      <td>nonrobust</td>    <th>                     </th>     <td> </td>    \n",
       "</tr>\n",
       "</table>\n",
       "<table class=\"simpletable\">\n",
       "<tr>\n",
       "     <td></td>       <th>coef</th>     <th>std err</th>      <th>t</th>      <th>P>|t|</th>  <th>[0.025</th>    <th>0.975]</th>  \n",
       "</tr>\n",
       "<tr>\n",
       "  <th>const</th>  <td>-1.728e+07</td> <td> 6.65e+06</td> <td>   -2.598</td> <td> 0.009</td> <td>-3.03e+07</td> <td>-4.23e+06</td>\n",
       "</tr>\n",
       "<tr>\n",
       "  <th>budget</th> <td>    3.5595</td> <td>    0.082</td> <td>   43.307</td> <td> 0.000</td> <td>    3.398</td> <td>    3.721</td>\n",
       "</tr>\n",
       "</table>\n",
       "<table class=\"simpletable\">\n",
       "<tr>\n",
       "  <th>Omnibus:</th>       <td>736.978</td> <th>  Durbin-Watson:     </th> <td>   1.663</td>\n",
       "</tr>\n",
       "<tr>\n",
       "  <th>Prob(Omnibus):</th> <td> 0.000</td>  <th>  Jarque-Bera (JB):  </th> <td>9823.197</td>\n",
       "</tr>\n",
       "<tr>\n",
       "  <th>Skew:</th>          <td> 2.099</td>  <th>  Prob(JB):          </th> <td>    0.00</td>\n",
       "</tr>\n",
       "<tr>\n",
       "  <th>Kurtosis:</th>      <td>15.191</td>  <th>  Cond. No.          </th> <td>1.10e+08</td>\n",
       "</tr>\n",
       "</table><br/><br/>Notes:<br/>[1] Standard Errors assume that the covariance matrix of the errors is correctly specified.<br/>[2] The condition number is large, 1.1e+08. This might indicate that there are<br/>strong multicollinearity or other numerical problems."
      ],
      "text/latex": [
       "\\begin{center}\n",
       "\\begin{tabular}{lclc}\n",
       "\\toprule\n",
       "\\textbf{Dep. Variable:}    &   box\\_office    & \\textbf{  R-squared:         } &     0.570   \\\\\n",
       "\\textbf{Model:}            &       OLS        & \\textbf{  Adj. R-squared:    } &     0.569   \\\\\n",
       "\\textbf{Method:}           &  Least Squares   & \\textbf{  F-statistic:       } &     1875.   \\\\\n",
       "\\textbf{Date:}             & Thu, 07 Mar 2024 & \\textbf{  Prob (F-statistic):} & 1.22e-261   \\\\\n",
       "\\textbf{Time:}             &     14:55:12     & \\textbf{  Log-Likelihood:    } &   -28994.   \\\\\n",
       "\\textbf{No. Observations:} &        1418      & \\textbf{  AIC:               } & 5.799e+04   \\\\\n",
       "\\textbf{Df Residuals:}     &        1416      & \\textbf{  BIC:               } & 5.800e+04   \\\\\n",
       "\\textbf{Df Model:}         &           1      & \\textbf{                     } &             \\\\\n",
       "\\textbf{Covariance Type:}  &    nonrobust     & \\textbf{                     } &             \\\\\n",
       "\\bottomrule\n",
       "\\end{tabular}\n",
       "\\begin{tabular}{lcccccc}\n",
       "                & \\textbf{coef} & \\textbf{std err} & \\textbf{t} & \\textbf{P$> |$t$|$} & \\textbf{[0.025} & \\textbf{0.975]}  \\\\\n",
       "\\midrule\n",
       "\\textbf{const}  &   -1.728e+07  &     6.65e+06     &    -2.598  &         0.009        &    -3.03e+07    &    -4.23e+06     \\\\\n",
       "\\textbf{budget} &       3.5595  &        0.082     &    43.307  &         0.000        &        3.398    &        3.721     \\\\\n",
       "\\bottomrule\n",
       "\\end{tabular}\n",
       "\\begin{tabular}{lclc}\n",
       "\\textbf{Omnibus:}       & 736.978 & \\textbf{  Durbin-Watson:     } &    1.663  \\\\\n",
       "\\textbf{Prob(Omnibus):} &   0.000 & \\textbf{  Jarque-Bera (JB):  } & 9823.197  \\\\\n",
       "\\textbf{Skew:}          &   2.099 & \\textbf{  Prob(JB):          } &     0.00  \\\\\n",
       "\\textbf{Kurtosis:}      &  15.191 & \\textbf{  Cond. No.          } & 1.10e+08  \\\\\n",
       "\\bottomrule\n",
       "\\end{tabular}\n",
       "%\\caption{OLS Regression Results}\n",
       "\\end{center}\n",
       "\n",
       "Notes: \\newline\n",
       " [1] Standard Errors assume that the covariance matrix of the errors is correctly specified. \\newline\n",
       " [2] The condition number is large, 1.1e+08. This might indicate that there are \\newline\n",
       " strong multicollinearity or other numerical problems."
      ],
      "text/plain": [
       "<class 'statsmodels.iolib.summary.Summary'>\n",
       "\"\"\"\n",
       "                            OLS Regression Results                            \n",
       "==============================================================================\n",
       "Dep. Variable:             box_office   R-squared:                       0.570\n",
       "Model:                            OLS   Adj. R-squared:                  0.569\n",
       "Method:                 Least Squares   F-statistic:                     1875.\n",
       "Date:                Thu, 07 Mar 2024   Prob (F-statistic):          1.22e-261\n",
       "Time:                        14:55:12   Log-Likelihood:                -28994.\n",
       "No. Observations:                1418   AIC:                         5.799e+04\n",
       "Df Residuals:                    1416   BIC:                         5.800e+04\n",
       "Df Model:                           1                                         \n",
       "Covariance Type:            nonrobust                                         \n",
       "==============================================================================\n",
       "                 coef    std err          t      P>|t|      [0.025      0.975]\n",
       "------------------------------------------------------------------------------\n",
       "const      -1.728e+07   6.65e+06     -2.598      0.009   -3.03e+07   -4.23e+06\n",
       "budget         3.5595      0.082     43.307      0.000       3.398       3.721\n",
       "==============================================================================\n",
       "Omnibus:                      736.978   Durbin-Watson:                   1.663\n",
       "Prob(Omnibus):                  0.000   Jarque-Bera (JB):             9823.197\n",
       "Skew:                           2.099   Prob(JB):                         0.00\n",
       "Kurtosis:                      15.191   Cond. No.                     1.10e+08\n",
       "==============================================================================\n",
       "\n",
       "Notes:\n",
       "[1] Standard Errors assume that the covariance matrix of the errors is correctly specified.\n",
       "[2] The condition number is large, 1.1e+08. This might indicate that there are\n",
       "strong multicollinearity or other numerical problems.\n",
       "\"\"\""
      ]
     },
     "execution_count": 11,
     "metadata": {},
     "output_type": "execute_result"
    }
   ],
   "source": [
    "# Build baseline model\n",
    "x_base = df['budget']\n",
    "y_base = df['box_office']\n",
    "\n",
    "x_base = sm.add_constant(x_base)\n",
    "model_base = sm.OLS(y_base, x_base).fit()\n",
    "model_base.summary()"
   ]
  },
  {
   "cell_type": "code",
   "execution_count": 13,
   "metadata": {},
   "outputs": [],
   "source": [
    "# compute rmse\n",
    "y_pred = model_base.predict(x_base)\n",
    "res = y_base - y_pred\n",
    "\n",
    "rmse = np.sqrt((res ** 2).mean())"
   ]
  },
  {
   "cell_type": "code",
   "execution_count": 27,
   "metadata": {},
   "outputs": [
    {
     "data": {
      "image/png": "[encoded data removed]",
      "text/plain": [
       "<Figure size 1200x600 with 2 Axes>"
      ]
     },
     "metadata": {},
     "output_type": "display_data"
    },
    {
     "name": "stdout",
     "output_type": "stream",
     "text": [
      "Root Mean Squared Error: 183640815.62439677\n"
     ]
    }
   ],
   "source": [
    "# plot the model\n",
    "fig, axes = plt.subplots(nrows=1, ncols=2, figsize=(12, 6))\n",
    "\n",
    "axes[0].scatter(x=df['budget'], y=y_base, color = 'cadetblue')\n",
    "axes[0].plot(df['budget'], y_pred, color = 'darkorange')\n",
    "axes[0].set_xlabel('Budget')\n",
    "axes[0].set_ylabel('Movie Gross')\n",
    "\n",
    "axes[1].hist(res, bins=50, color='darkseagreen', edgecolor = 'darkolivegreen')\n",
    "axes[1].set_xlabel('Error')\n",
    "axes[1].set_ylabel('Frequency')\n",
    "\n",
    "plt.show() # e = y - y_pred, the plot shows more movies are underestimated in the base model\n",
    "print(f'Root Mean Squared Error: {rmse}')"
   ]
  },
  {
   "cell_type": "markdown",
   "metadata": {},
   "source": [
    "## Compute Test Data"
   ]
  },
  {
   "cell_type": "code",
   "execution_count": 29,
   "metadata": {},
   "outputs": [],
   "source": [
    "genres = ['Action', 'Documentary', 'Fantasy', 'Crime', 'Animation', 'Romance',\n",
    "       'Mystery', 'Science Fiction', 'Family', 'Drama', 'War', 'History',\n",
    "       'Horror', 'Music', 'Western', 'Adventure', 'Comedy', 'Thriller']"
   ]
  },
  {
   "cell_type": "code",
   "execution_count": 30,
   "metadata": {},
   "outputs": [],
   "source": [
    "# compute vote count median by genres\n",
    "vote_count_median = {}\n",
    "for genre in genres:\n",
    "    md = df[df[genre] == 1]['vote_count'].median()\n",
    "    vote_count_median[genre] = md"
   ]
  },
  {
   "cell_type": "code",
   "execution_count": 31,
   "metadata": {},
   "outputs": [],
   "source": [
    "# compute vote average mean by genres\n",
    "vote_avg_mean = {}\n",
    "for genre in genres:\n",
    "    mn = df[df[genre] == 1]['vote_average'].mean()\n",
    "    vote_avg_mean[genre] = mn"
   ]
  },
  {
   "cell_type": "code",
   "execution_count": 32,
   "metadata": {},
   "outputs": [],
   "source": [
    "# compute popularity median by genres\n",
    "pop_median = {}\n",
    "for genre in genres:\n",
    "    md = df[df[genre] == 1]['popularity'].median()\n",
    "    pop_median[genre] = md"
   ]
  },
  {
   "cell_type": "code",
   "execution_count": 34,
   "metadata": {},
   "outputs": [],
   "source": [
    "# import test set\n",
    "import ast\n",
    "\n",
    "df_test = pd.read_csv('./test_set.csv')\n",
    "df_test['genre_list'] = df_test['genre_list'].apply(ast.literal_eval)"
   ]
  },
  {
   "cell_type": "code",
   "execution_count": 35,
   "metadata": {},
   "outputs": [],
   "source": [
    "# function to map genre median/mean to movies\n",
    "def value_map(dictionary, row):\n",
    "    values = []\n",
    "    for key in row:\n",
    "        try:\n",
    "            values.append(dictionary[key])\n",
    "        except KeyError:\n",
    "            values.append(np.nan)   # or a default value of your choice\n",
    "    return values"
   ]
  },
  {
   "cell_type": "code",
   "execution_count": 36,
   "metadata": {},
   "outputs": [],
   "source": [
    "# impute counts\n",
    "df_test['imputed_count'] = df_test['genre_list'].apply(lambda row: np.median(value_map(vote_count_median, row)))\n",
    "\n",
    "# impute average\n",
    "df_test['imputed_average'] = df_test['genre_list'].apply(lambda row: np.mean(value_map(vote_avg_mean, row)))\n",
    "\n",
    "#impute popularity\n",
    "df_test['imputed_pop'] = df_test['genre_list'].apply(lambda row: np.median(value_map(pop_median, row)))"
   ]
  },
  {
   "cell_type": "code",
   "execution_count": 38,
   "metadata": {},
   "outputs": [
    {
     "name": "stdout",
     "output_type": "stream",
     "text": [
      "       original_title     budget  runtime  ratings  oscar_noms  oscar_winner  \\\n",
      "0  Love Lies Bleeding  247800000    104.0      7.7           2             0   \n",
      "1     Kung Fu Panda 4  160000000     94.0      7.0           2             1   \n",
      "2           Imaginary   13000000    104.0      4.0           0             0   \n",
      "3             Cabrini   50000000    145.0      8.0           2             0   \n",
      "4    Accidental Texan   10000000    104.0      8.0           1             0   \n",
      "\n",
      "                                          genre_list release_date  \\\n",
      "0  [Action, Adventure, Crime, Mystery, Romance, T...     3/8/2024   \n",
      "1  [Animation, Action, Adventure, Comedy, Family,...     3/8/2024   \n",
      "2                                 [Horror, Thriller]     3/8/2024   \n",
      "3                                        [Biography]     3/8/2024   \n",
      "4                                    [Comedy, Drama]     3/8/2024   \n",
      "\n",
      "   release_month  release_year  ...  History  Horror  Music  Western  Action  \\\n",
      "0              3          2024  ...        0       0      0        0       1   \n",
      "1              3          2024  ...        0       0      0        0       1   \n",
      "2              3          2024  ...        0       1      0        0       0   \n",
      "3              3          2024  ...        0       0      0        0       0   \n",
      "4              3          2024  ...        0       0      0        0       0   \n",
      "\n",
      "   Comedy  Thriller  imputed_count  imputed_average  imputed_pop  \n",
      "0       0         1        2727.50         6.434384     33.48050  \n",
      "1       1         0        3399.75         6.600889     47.20525  \n",
      "2       0         1        2419.50         6.139220     33.95500  \n",
      "3       0         0            NaN              NaN          NaN  \n",
      "4       1         0        2216.00         6.555226     29.88250  \n",
      "\n",
      "[5 rows x 35 columns]\n"
     ]
    }
   ],
   "source": [
    "df_test.drop(columns=['popularity', 'vote_average', 'vote_count'], inplace = True)\n",
    "print(df_test.head())"
   ]
  }
 ],
 "metadata": {
  "kernelspec": {
   "display_name": "imt574",
   "language": "python",
   "name": "python3"
  },
  "language_info": {
   "codemirror_mode": {
    "name": "ipython",
    "version": 3
   },
   "file_extension": ".py",
   "mimetype": "text/x-python",
   "name": "python",
   "nbconvert_exporter": "python",
   "pygments_lexer": "ipython3",
   "version": "3.8.5"
  }
 },
 "nbformat": 4,
 "nbformat_minor": 2
}
